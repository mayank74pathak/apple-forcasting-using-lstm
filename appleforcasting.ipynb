{
 "cells": [
  {
   "cell_type": "code",
   "execution_count": 101,
   "id": "d9d3457f",
   "metadata": {},
   "outputs": [],
   "source": [
    " \n",
    "import yfinance as yf\n",
    "import datetime"
   ]
  },
  {
   "cell_type": "code",
   "execution_count": null,
   "id": "0c3ffb34",
   "metadata": {},
   "outputs": [],
   "source": []
  },
  {
   "cell_type": "code",
   "execution_count": 102,
   "id": "b7102ef2",
   "metadata": {},
   "outputs": [
    {
     "name": "stderr",
     "output_type": "stream",
     "text": [
      "[*********************100%***********************]  1 of 1 completed\n"
     ]
    }
   ],
   "source": [
    "df=yf.download('AAPL', start='2020-01-01', end='2023-12-30')"
   ]
  },
  {
   "cell_type": "code",
   "execution_count": 103,
   "id": "36eb025f",
   "metadata": {},
   "outputs": [
    {
     "name": "stdout",
     "output_type": "stream",
     "text": [
      "                  Open        High         Low       Close   Adj Close  \\\n",
      "Date                                                                     \n",
      "2020-01-02   74.059998   75.150002   73.797501   75.087502   72.876099   \n",
      "2020-01-03   74.287498   75.144997   74.125000   74.357498   72.167610   \n",
      "2020-01-06   73.447502   74.989998   73.187500   74.949997   72.742653   \n",
      "2020-01-07   74.959999   75.224998   74.370003   74.597504   72.400536   \n",
      "2020-01-08   74.290001   76.110001   74.290001   75.797501   73.565193   \n",
      "...                ...         ...         ...         ...         ...   \n",
      "2023-12-22  195.179993  195.410004  192.970001  193.600006  192.868134   \n",
      "2023-12-26  193.610001  193.889999  192.830002  193.050003  192.320221   \n",
      "2023-12-27  192.490005  193.500000  191.089996  193.149994  192.419830   \n",
      "2023-12-28  194.139999  194.660004  193.169998  193.580002  192.848221   \n",
      "2023-12-29  193.899994  194.399994  191.729996  192.529999  191.802185   \n",
      "\n",
      "               Volume  \n",
      "Date                   \n",
      "2020-01-02  135480400  \n",
      "2020-01-03  146322800  \n",
      "2020-01-06  118387200  \n",
      "2020-01-07  108872000  \n",
      "2020-01-08  132079200  \n",
      "...               ...  \n",
      "2023-12-22   37122800  \n",
      "2023-12-26   28919300  \n",
      "2023-12-27   48087700  \n",
      "2023-12-28   34049900  \n",
      "2023-12-29   42628800  \n",
      "\n",
      "[1006 rows x 6 columns]\n"
     ]
    }
   ],
   "source": [
    "print(df)"
   ]
  },
  {
   "cell_type": "code",
   "execution_count": 104,
   "id": "f1afe4f8",
   "metadata": {},
   "outputs": [],
   "source": [
    "df.to_csv('apple.csv')"
   ]
  },
  {
   "cell_type": "code",
   "execution_count": 105,
   "id": "bd844d29",
   "metadata": {},
   "outputs": [],
   "source": [
    "import pandas as pd"
   ]
  },
  {
   "cell_type": "code",
   "execution_count": 106,
   "id": "77345dbc",
   "metadata": {},
   "outputs": [],
   "source": [
    "df=pd.read_csv('apple.csv')"
   ]
  },
  {
   "cell_type": "code",
   "execution_count": 107,
   "id": "a251ecd8",
   "metadata": {},
   "outputs": [
    {
     "data": {
      "text/html": [
       "<div>\n",
       "<style scoped>\n",
       "    .dataframe tbody tr th:only-of-type {\n",
       "        vertical-align: middle;\n",
       "    }\n",
       "\n",
       "    .dataframe tbody tr th {\n",
       "        vertical-align: top;\n",
       "    }\n",
       "\n",
       "    .dataframe thead th {\n",
       "        text-align: right;\n",
       "    }\n",
       "</style>\n",
       "<table border=\"1\" class=\"dataframe\">\n",
       "  <thead>\n",
       "    <tr style=\"text-align: right;\">\n",
       "      <th></th>\n",
       "      <th>Date</th>\n",
       "      <th>Open</th>\n",
       "      <th>High</th>\n",
       "      <th>Low</th>\n",
       "      <th>Close</th>\n",
       "      <th>Adj Close</th>\n",
       "      <th>Volume</th>\n",
       "    </tr>\n",
       "  </thead>\n",
       "  <tbody>\n",
       "    <tr>\n",
       "      <th>0</th>\n",
       "      <td>2020-01-02</td>\n",
       "      <td>74.059998</td>\n",
       "      <td>75.150002</td>\n",
       "      <td>73.797501</td>\n",
       "      <td>75.087502</td>\n",
       "      <td>72.876099</td>\n",
       "      <td>135480400</td>\n",
       "    </tr>\n",
       "    <tr>\n",
       "      <th>1</th>\n",
       "      <td>2020-01-03</td>\n",
       "      <td>74.287498</td>\n",
       "      <td>75.144997</td>\n",
       "      <td>74.125000</td>\n",
       "      <td>74.357498</td>\n",
       "      <td>72.167610</td>\n",
       "      <td>146322800</td>\n",
       "    </tr>\n",
       "    <tr>\n",
       "      <th>2</th>\n",
       "      <td>2020-01-06</td>\n",
       "      <td>73.447502</td>\n",
       "      <td>74.989998</td>\n",
       "      <td>73.187500</td>\n",
       "      <td>74.949997</td>\n",
       "      <td>72.742653</td>\n",
       "      <td>118387200</td>\n",
       "    </tr>\n",
       "    <tr>\n",
       "      <th>3</th>\n",
       "      <td>2020-01-07</td>\n",
       "      <td>74.959999</td>\n",
       "      <td>75.224998</td>\n",
       "      <td>74.370003</td>\n",
       "      <td>74.597504</td>\n",
       "      <td>72.400536</td>\n",
       "      <td>108872000</td>\n",
       "    </tr>\n",
       "    <tr>\n",
       "      <th>4</th>\n",
       "      <td>2020-01-08</td>\n",
       "      <td>74.290001</td>\n",
       "      <td>76.110001</td>\n",
       "      <td>74.290001</td>\n",
       "      <td>75.797501</td>\n",
       "      <td>73.565193</td>\n",
       "      <td>132079200</td>\n",
       "    </tr>\n",
       "    <tr>\n",
       "      <th>...</th>\n",
       "      <td>...</td>\n",
       "      <td>...</td>\n",
       "      <td>...</td>\n",
       "      <td>...</td>\n",
       "      <td>...</td>\n",
       "      <td>...</td>\n",
       "      <td>...</td>\n",
       "    </tr>\n",
       "    <tr>\n",
       "      <th>295</th>\n",
       "      <td>2021-03-05</td>\n",
       "      <td>120.980003</td>\n",
       "      <td>121.940002</td>\n",
       "      <td>117.570000</td>\n",
       "      <td>121.419998</td>\n",
       "      <td>119.039391</td>\n",
       "      <td>153766600</td>\n",
       "    </tr>\n",
       "    <tr>\n",
       "      <th>296</th>\n",
       "      <td>2021-03-08</td>\n",
       "      <td>120.930000</td>\n",
       "      <td>121.000000</td>\n",
       "      <td>116.209999</td>\n",
       "      <td>116.360001</td>\n",
       "      <td>114.078606</td>\n",
       "      <td>154376600</td>\n",
       "    </tr>\n",
       "    <tr>\n",
       "      <th>297</th>\n",
       "      <td>2021-03-09</td>\n",
       "      <td>119.029999</td>\n",
       "      <td>122.059998</td>\n",
       "      <td>118.790001</td>\n",
       "      <td>121.089996</td>\n",
       "      <td>118.715866</td>\n",
       "      <td>129525800</td>\n",
       "    </tr>\n",
       "    <tr>\n",
       "      <th>298</th>\n",
       "      <td>2021-03-10</td>\n",
       "      <td>121.690002</td>\n",
       "      <td>122.169998</td>\n",
       "      <td>119.449997</td>\n",
       "      <td>119.980003</td>\n",
       "      <td>117.627632</td>\n",
       "      <td>111943300</td>\n",
       "    </tr>\n",
       "    <tr>\n",
       "      <th>299</th>\n",
       "      <td>2021-03-11</td>\n",
       "      <td>122.540001</td>\n",
       "      <td>123.209999</td>\n",
       "      <td>121.260002</td>\n",
       "      <td>121.959999</td>\n",
       "      <td>119.568810</td>\n",
       "      <td>103026500</td>\n",
       "    </tr>\n",
       "  </tbody>\n",
       "</table>\n",
       "<p>300 rows × 7 columns</p>\n",
       "</div>"
      ],
      "text/plain": [
       "           Date        Open        High         Low       Close   Adj Close  \\\n",
       "0    2020-01-02   74.059998   75.150002   73.797501   75.087502   72.876099   \n",
       "1    2020-01-03   74.287498   75.144997   74.125000   74.357498   72.167610   \n",
       "2    2020-01-06   73.447502   74.989998   73.187500   74.949997   72.742653   \n",
       "3    2020-01-07   74.959999   75.224998   74.370003   74.597504   72.400536   \n",
       "4    2020-01-08   74.290001   76.110001   74.290001   75.797501   73.565193   \n",
       "..          ...         ...         ...         ...         ...         ...   \n",
       "295  2021-03-05  120.980003  121.940002  117.570000  121.419998  119.039391   \n",
       "296  2021-03-08  120.930000  121.000000  116.209999  116.360001  114.078606   \n",
       "297  2021-03-09  119.029999  122.059998  118.790001  121.089996  118.715866   \n",
       "298  2021-03-10  121.690002  122.169998  119.449997  119.980003  117.627632   \n",
       "299  2021-03-11  122.540001  123.209999  121.260002  121.959999  119.568810   \n",
       "\n",
       "        Volume  \n",
       "0    135480400  \n",
       "1    146322800  \n",
       "2    118387200  \n",
       "3    108872000  \n",
       "4    132079200  \n",
       "..         ...  \n",
       "295  153766600  \n",
       "296  154376600  \n",
       "297  129525800  \n",
       "298  111943300  \n",
       "299  103026500  \n",
       "\n",
       "[300 rows x 7 columns]"
      ]
     },
     "execution_count": 107,
     "metadata": {},
     "output_type": "execute_result"
    }
   ],
   "source": [
    "df.head(300)"
   ]
  },
  {
   "cell_type": "code",
   "execution_count": 108,
   "id": "63594d54",
   "metadata": {},
   "outputs": [],
   "source": [
    "df1=df.reset_index()['Close']"
   ]
  },
  {
   "cell_type": "code",
   "execution_count": 109,
   "id": "a1e8dde3",
   "metadata": {},
   "outputs": [
    {
     "data": {
      "text/plain": [
       "(1006,)"
      ]
     },
     "execution_count": 109,
     "metadata": {},
     "output_type": "execute_result"
    }
   ],
   "source": [
    "df1.shape"
   ]
  },
  {
   "cell_type": "code",
   "execution_count": 110,
   "id": "dc6f2222",
   "metadata": {},
   "outputs": [
    {
     "data": {
      "text/plain": [
       "[<matplotlib.lines.Line2D at 0x30cf9e0d0>]"
      ]
     },
     "execution_count": 110,
     "metadata": {},
     "output_type": "execute_result"
    },
    {
     "data": {
      "image/png": "[encoded data removed]",
      "text/plain": [
       "<Figure size 640x480 with 1 Axes>"
      ]
     },
     "metadata": {},
     "output_type": "display_data"
    }
   ],
   "source": [
    "import matplotlib.pyplot as plt\n",
    "plt.plot(df1)"
   ]
  },
  {
   "cell_type": "code",
   "execution_count": 111,
   "id": "f4217019",
   "metadata": {},
   "outputs": [],
   "source": [
    "import numpy as np"
   ]
  },
  {
   "cell_type": "code",
   "execution_count": 112,
   "id": "b64e3659",
   "metadata": {},
   "outputs": [
    {
     "data": {
      "text/plain": [
       "0        75.087502\n",
       "1        74.357498\n",
       "2        74.949997\n",
       "3        74.597504\n",
       "4        75.797501\n",
       "           ...    \n",
       "1001    193.600006\n",
       "1002    193.050003\n",
       "1003    193.149994\n",
       "1004    193.580002\n",
       "1005    192.529999\n",
       "Name: Close, Length: 1006, dtype: float64"
      ]
     },
     "execution_count": 112,
     "metadata": {},
     "output_type": "execute_result"
    }
   ],
   "source": [
    "df1"
   ]
  },
  {
   "cell_type": "code",
   "execution_count": 113,
   "id": "9e27a63a",
   "metadata": {},
   "outputs": [],
   "source": [
    "from sklearn.preprocessing import MinMaxScaler\n",
    "scaler=MinMaxScaler(feature_range=(0,1))\n",
    "df1=scaler.fit_transform(np.array(df1).reshape(-1,1))"
   ]
  },
  {
   "cell_type": "code",
   "execution_count": 114,
   "id": "16f825ea",
   "metadata": {},
   "outputs": [],
   "source": [
    "#splitting the dataset from train and test split\n",
    "training_size=int(len(df1)*0.65)\n",
    "test_size=len(df1)-training_size\n",
    "train_data,test_data=df1[0:training_size,:],df1[training_size:len(df1),:1]"
   ]
  },
  {
   "cell_type": "code",
   "execution_count": 115,
   "id": "39262a4f",
   "metadata": {},
   "outputs": [
    {
     "data": {
      "text/plain": [
       "(653, 353)"
      ]
     },
     "execution_count": 115,
     "metadata": {},
     "output_type": "execute_result"
    }
   ],
   "source": [
    "training_size,test_size"
   ]
  },
  {
   "cell_type": "code",
   "execution_count": 116,
   "id": "995ae631",
   "metadata": {},
   "outputs": [
    {
     "data": {
      "text/plain": [
       "array([[0.13375114],\n",
       "       [0.1286109 ],\n",
       "       [0.13278292],\n",
       "       [0.13030088],\n",
       "       [0.13875052],\n",
       "       [0.15008715],\n",
       "       [0.15131936],\n",
       "       [0.16299047],\n",
       "       [0.15545619],\n",
       "       [0.15309733],\n",
       "       [0.15996267],\n",
       "       [0.16610632],\n",
       "       [0.16230396],\n",
       "       [0.16429316],\n",
       "       [0.16698649],\n",
       "       [0.16536695],\n",
       "       [0.14889013],\n",
       "       [0.16427554],\n",
       "       [0.17598183],\n",
       "       [0.17515447],\n",
       "       [0.14987592],\n",
       "       [0.14837961],\n",
       "       [0.16631755],\n",
       "       [0.17089446],\n",
       "       [0.17751333],\n",
       "       [0.16839474],\n",
       "       [0.17107045],\n",
       "       [0.16765538],\n",
       "       [0.18101645],\n",
       "       [0.17691481],\n",
       "       [0.17705567],\n",
       "       [0.16658159],\n",
       "       [0.17471438],\n",
       "       [0.16887002],\n",
       "       [0.15610751],\n",
       "       [0.12993116],\n",
       "       [0.11215165],\n",
       "       [0.12019645],\n",
       "       [0.08652102],\n",
       "       [0.08623935],\n",
       "       [0.13104019],\n",
       "       [0.11433452],\n",
       "       [0.13795834],\n",
       "       [0.12067178],\n",
       "       [0.11382401],\n",
       "       [0.07358251],\n",
       "       [0.10732832],\n",
       "       [0.08988328],\n",
       "       [0.04200187],\n",
       "       [0.09435458],\n",
       "       [0.0314046 ],\n",
       "       [0.05015228],\n",
       "       [0.03925573],\n",
       "       [0.03592868],\n",
       "       [0.00857291],\n",
       "       [0.        ],\n",
       "       [0.03962541],\n",
       "       [0.03723134],\n",
       "       [0.05997502],\n",
       "       [0.04113931],\n",
       "       [0.05358495],\n",
       "       [0.05266956],\n",
       "       [0.02911614],\n",
       "       [0.03619272],\n",
       "       [0.02999632],\n",
       "       [0.06706921],\n",
       "       [0.06171774],\n",
       "       [0.07340647],\n",
       "       [0.0767863 ],\n",
       "       [0.08604574],\n",
       "       [0.1103385 ],\n",
       "       [0.1057264 ],\n",
       "       [0.1097048 ],\n",
       "       [0.10285703],\n",
       "       [0.0925238 ],\n",
       "       [0.07745524],\n",
       "       [0.09106274],\n",
       "       [0.08917916],\n",
       "       [0.10315631],\n",
       "       [0.1035084 ],\n",
       "       [0.09542836],\n",
       "       [0.11153558],\n",
       "       [0.12222084],\n",
       "       [0.11389443],\n",
       "       [0.12109424],\n",
       "       [0.12883976],\n",
       "       [0.13424403],\n",
       "       [0.13971869],\n",
       "       [0.15096733],\n",
       "       [0.15955782],\n",
       "       [0.15322057],\n",
       "       [0.14660165],\n",
       "       [0.14992873],\n",
       "       [0.14670726],\n",
       "       [0.15946978],\n",
       "       [0.15626599],\n",
       "       [0.16698649],\n",
       "       [0.16279686],\n",
       "       [0.16638798],\n",
       "       [0.16258562],\n",
       "       [0.16501486],\n",
       "       [0.16526133],\n",
       "       [0.16471563],\n",
       "       [0.17159859],\n",
       "       [0.17422149],\n",
       "       [0.1773549 ],\n",
       "       [0.17242595],\n",
       "       [0.18858592],\n",
       "       [0.19203618],\n",
       "       [0.21057263],\n",
       "       [0.22615171],\n",
       "       [0.19633143],\n",
       "       [0.20143643],\n",
       "       [0.20881228],\n",
       "       [0.22481383],\n",
       "       [0.22395127],\n",
       "       [0.22419775],\n",
       "       [0.22065943],\n",
       "       [0.23676659],\n",
       "       [0.25025085],\n",
       "       [0.23886141],\n",
       "       [0.24727586],\n",
       "       [0.22754239],\n",
       "       [0.24188921],\n",
       "       [0.24720543],\n",
       "       [0.24599079],\n",
       "       [0.24599079],\n",
       "       [0.2631366 ],\n",
       "       [0.26109459],\n",
       "       [0.27637439],\n",
       "       [0.27926138],\n",
       "       [0.28044078],\n",
       "       [0.27732499],\n",
       "       [0.28845039],\n",
       "       [0.29315049],\n",
       "       [0.28468322],\n",
       "       [0.28331016],\n",
       "       [0.29760416],\n",
       "       [0.28804549],\n",
       "       [0.28996426],\n",
       "       [0.25878854],\n",
       "       [0.257169  ],\n",
       "       [0.27262484],\n",
       "       [0.26165792],\n",
       "       [0.27424438],\n",
       "       [0.28234199],\n",
       "       [0.35324874],\n",
       "       [0.37210203],\n",
       "       [0.37722465],\n",
       "       [0.38002359],\n",
       "       [0.40706249],\n",
       "       [0.38741707],\n",
       "       [0.39878889],\n",
       "       [0.37518264],\n",
       "       [0.40077809],\n",
       "       [0.41486086],\n",
       "       [0.41413911],\n",
       "       [0.41202668],\n",
       "       [0.41875121],\n",
       "       [0.41977219],\n",
       "       [0.43785098],\n",
       "       [0.48076824],\n",
       "       [0.49124227],\n",
       "       [0.48397203],\n",
       "       [0.49592479],\n",
       "       [0.48527472],\n",
       "       [0.48384884],\n",
       "       [0.51365144],\n",
       "       [0.54984416],\n",
       "       [0.53026912],\n",
       "       [0.45619376],\n",
       "       [0.45675709],\n",
       "       [0.39944021],\n",
       "       [0.43112645],\n",
       "       [0.40415793],\n",
       "       [0.39366628],\n",
       "       [0.41732534],\n",
       "       [0.41859279],\n",
       "       [0.39458164],\n",
       "       [0.38197755],\n",
       "       [0.3573327 ],\n",
       "       [0.38014683],\n",
       "       [0.3923284 ],\n",
       "       [0.35930433],\n",
       "       [0.36704985],\n",
       "       [0.39563786],\n",
       "       [0.41450877],\n",
       "       [0.40838275],\n",
       "       [0.42049394],\n",
       "       [0.42739452],\n",
       "       [0.40084847],\n",
       "       [0.42535251],\n",
       "       [0.40183431],\n",
       "       [0.41535376],\n",
       "       [0.4145792 ],\n",
       "       [0.42866197],\n",
       "       [0.48097947],\n",
       "       [0.45774288],\n",
       "       [0.45837663],\n",
       "       [0.45499674],\n",
       "       [0.44309678],\n",
       "       [0.42169102],\n",
       "       [0.43246433],\n",
       "       [0.42795784],\n",
       "       [0.42007147],\n",
       "       [0.4150721 ],\n",
       "       [0.41514252],\n",
       "       [0.42605664],\n",
       "       [0.38803315],\n",
       "       [0.41704368],\n",
       "       [0.37155633],\n",
       "       [0.37092258],\n",
       "       [0.38268173],\n",
       "       [0.41443834],\n",
       "       [0.44316721],\n",
       "       [0.44077316],\n",
       "       [0.42408506],\n",
       "       [0.42162059],\n",
       "       [0.44640624],\n",
       "       [0.44443466],\n",
       "       [0.44478675],\n",
       "       [0.4521098 ],\n",
       "       [0.44570211],\n",
       "       [0.43612582],\n",
       "       [0.44042107],\n",
       "       [0.43126725],\n",
       "       [0.40669283],\n",
       "       [0.41598746],\n",
       "       [0.42204305],\n",
       "       [0.42598621],\n",
       "       [0.44330807],\n",
       "       [0.46914994],\n",
       "       [0.47168484],\n",
       "       [0.47069905],\n",
       "       [0.46584048],\n",
       "       [0.47640256],\n",
       "       [0.48083861],\n",
       "       [0.46253102],\n",
       "       [0.47281144],\n",
       "       [0.46696713],\n",
       "       [0.46253102],\n",
       "       [0.50548346],\n",
       "       [0.50499057],\n",
       "       [0.5112574 ],\n",
       "       [0.49689302],\n",
       "       [0.50794794],\n",
       "       [0.53364906],\n",
       "       [0.527171  ],\n",
       "       [0.53428276],\n",
       "       [0.56751811],\n",
       "       [0.55470273],\n",
       "       [0.54660518],\n",
       "       [0.53935256],\n",
       "       [0.51625683],\n",
       "       [0.52752298],\n",
       "       [0.4964705 ],\n",
       "       [0.52688928],\n",
       "       [0.53484608],\n",
       "       [0.51322898],\n",
       "       [0.51196158],\n",
       "       [0.52667805],\n",
       "       [0.51273613],\n",
       "       [0.50027285],\n",
       "       [0.50513142],\n",
       "       [0.53470522],\n",
       "       [0.5687855 ],\n",
       "       [0.58427664],\n",
       "       [0.61138591],\n",
       "       [0.61307588],\n",
       "       [0.60533031],\n",
       "       [0.57033462],\n",
       "       [0.53421238],\n",
       "       [0.54956255],\n",
       "       [0.55554777],\n",
       "       [0.5481543 ],\n",
       "       [0.57244705],\n",
       "       [0.56801095],\n",
       "       [0.56906722],\n",
       "       [0.56272991],\n",
       "       [0.55836428],\n",
       "       [0.55653356],\n",
       "       [0.55822343],\n",
       "       [0.54287326],\n",
       "       [0.52632596],\n",
       "       [0.51836926],\n",
       "       [0.5194958 ],\n",
       "       [0.49224568],\n",
       "       [0.49125989],\n",
       "       [0.48766876],\n",
       "       [0.45696832],\n",
       "       [0.45886952],\n",
       "       [0.50484976],\n",
       "       [0.48604928],\n",
       "       [0.4645026 ],\n",
       "       [0.45091272],\n",
       "       [0.45999612],\n",
       "       [0.42436672],\n",
       "       [0.45767245],\n",
       "       [0.44985656],\n",
       "       [0.46379847],\n",
       "       [0.45724998],\n",
       "       [0.47809248],\n",
       "       [0.48921788],\n",
       "       [0.48351437],\n",
       "       [0.45372929],\n",
       "       [0.44992693],\n",
       "       [0.47386766],\n",
       "       [0.46788249],\n",
       "       [0.45063106],\n",
       "       [0.45415175],\n",
       "       [0.45851743],\n",
       "       [0.45978488],\n",
       "       [0.44929323],\n",
       "       [0.46513635],\n",
       "       [0.47112152],\n",
       "       [0.49154155],\n",
       "       [0.49372436],\n",
       "       [0.50562432],\n",
       "       [0.52294612],\n",
       "       [0.54153538],\n",
       "       [0.52914258],\n",
       "       [0.55160451],\n",
       "       [0.53470522],\n",
       "       [0.55209745],\n",
       "       [0.54970341],\n",
       "       [0.5544915 ],\n",
       "       [0.54230993],\n",
       "       [0.54505607],\n",
       "       [0.53407152],\n",
       "       [0.55083006],\n",
       "       [0.55364657],\n",
       "       [0.5513229 ],\n",
       "       [0.54561939],\n",
       "       [0.54491521],\n",
       "       [0.53069169],\n",
       "       [0.53829629],\n",
       "       [0.50527223],\n",
       "       [0.50703263],\n",
       "       [0.5185805 ],\n",
       "       [0.52188996],\n",
       "       [0.49823084],\n",
       "       [0.49161198],\n",
       "       [0.46950198],\n",
       "       [0.48499306],\n",
       "       [0.50245566],\n",
       "       [0.49414683],\n",
       "       [0.48414807],\n",
       "       [0.48302148],\n",
       "       [0.50146987],\n",
       "       [0.48823209],\n",
       "       [0.49999119],\n",
       "       [0.49858293],\n",
       "       [0.49823084],\n",
       "       [0.48717587],\n",
       "       [0.48245815],\n",
       "       [0.48013448],\n",
       "       [0.48562676],\n",
       "       [0.47492387],\n",
       "       [0.49147112],\n",
       "       [0.49154155],\n",
       "       [0.49745629],\n",
       "       [0.50020242],\n",
       "       [0.49302023],\n",
       "       [0.50175154],\n",
       "       [0.52379105],\n",
       "       [0.51787632],\n",
       "       [0.52146738],\n",
       "       [0.53301525],\n",
       "       [0.5236503 ],\n",
       "       [0.53660643],\n",
       "       [0.5484359 ],\n",
       "       [0.54646432],\n",
       "       [0.54442237],\n",
       "       [0.54230993],\n",
       "       [0.55406903],\n",
       "       [0.5649832 ],\n",
       "       [0.56941931],\n",
       "       [0.57160212],\n",
       "       [0.59054347],\n",
       "       [0.6050487 ],\n",
       "       [0.62300426],\n",
       "       [0.6136392 ],\n",
       "       [0.62680656],\n",
       "       [0.62251131],\n",
       "       [0.63053849],\n",
       "       [0.65525371],\n",
       "       [0.650536  ],\n",
       "       [0.63581953],\n",
       "       [0.60807645],\n",
       "       [0.63412955],\n",
       "       [0.62884851],\n",
       "       [0.63870652],\n",
       "       [0.65109932],\n",
       "       [0.65412717],\n",
       "       [0.63849529],\n",
       "       [0.62589115],\n",
       "       [0.63053849],\n",
       "       [0.6320876 ],\n",
       "       [0.62969355],\n",
       "       [0.64264968],\n",
       "       [0.63976268],\n",
       "       [0.64053724],\n",
       "       [0.63405918],\n",
       "       [0.63370709],\n",
       "       [0.63025688],\n",
       "       [0.6320876 ],\n",
       "       [0.65342299],\n",
       "       [0.65490173],\n",
       "       [0.66912525],\n",
       "       [0.66257681],\n",
       "       [0.63560829],\n",
       "       [0.63800234],\n",
       "       [0.64849404],\n",
       "       [0.65919698],\n",
       "       [0.65856317],\n",
       "       [0.64969106],\n",
       "       [0.64391708],\n",
       "       [0.65138103],\n",
       "       [0.68320802],\n",
       "       [0.67412468],\n",
       "       [0.67891277],\n",
       "       [0.68693995],\n",
       "       [0.69151691],\n",
       "       [0.70834582],\n",
       "       [0.69722042],\n",
       "       [0.68989742],\n",
       "       [0.65398631],\n",
       "       [0.65807033],\n",
       "       [0.64800109],\n",
       "       [0.65440878],\n",
       "       [0.65271881],\n",
       "       [0.63349586],\n",
       "       [0.61152677],\n",
       "       [0.61497698],\n",
       "       [0.63201722],\n",
       "       [0.63891775],\n",
       "       [0.63955145],\n",
       "       [0.62863728],\n",
       "       [0.60427415],\n",
       "       [0.61075221],\n",
       "       [0.60138715],\n",
       "       [0.6094847 ],\n",
       "       [0.58476948],\n",
       "       [0.59864102],\n",
       "       [0.60490785],\n",
       "       [0.61399119],\n",
       "       [0.61124505],\n",
       "       [0.61061135],\n",
       "       [0.60145753],\n",
       "       [0.59723276],\n",
       "       [0.61730065],\n",
       "       [0.62490536],\n",
       "       [0.63694617],\n",
       "       [0.65250758],\n",
       "       [0.65602827],\n",
       "       [0.65757738],\n",
       "       [0.65201473],\n",
       "       [0.65166264],\n",
       "       [0.65645084],\n",
       "       [0.65314138],\n",
       "       [0.67933534],\n",
       "       [0.65983068],\n",
       "       [0.65391594],\n",
       "       [0.66137979],\n",
       "       [0.67173064],\n",
       "       [0.66799871],\n",
       "       [0.6702519 ],\n",
       "       [0.66433716],\n",
       "       [0.66694244],\n",
       "       [0.64659284],\n",
       "       [0.64624075],\n",
       "       [0.66116856],\n",
       "       [0.66123893],\n",
       "       [0.66828032],\n",
       "       [0.68581341],\n",
       "       [0.7166546 ],\n",
       "       [0.73552557],\n",
       "       [0.73883503],\n",
       "       [0.74158117],\n",
       "       [0.74531309],\n",
       "       [0.70919075],\n",
       "       [0.73334276],\n",
       "       [0.76897215],\n",
       "       [0.76524023],\n",
       "       [0.75812836],\n",
       "       [0.74460891],\n",
       "       [0.76911301],\n",
       "       [0.81037543],\n",
       "       [0.8378369 ],\n",
       "       [0.83417535],\n",
       "       [0.86860772],\n",
       "       [0.84248424],\n",
       "       [0.83255586],\n",
       "       [0.86755155],\n",
       "       [0.81798014],\n",
       "       [0.81009382],\n",
       "       [0.8003063 ],\n",
       "       [0.82312043],\n",
       "       [0.84178006],\n",
       "       [0.84628654],\n",
       "       [0.87480417],\n",
       "       [0.86748107],\n",
       "       [0.86811488],\n",
       "       [0.85980599],\n",
       "       [0.85536999],\n",
       "       [0.88663365],\n",
       "       [0.87036806],\n",
       "       [0.83671025],\n",
       "       [0.81614942],\n",
       "       [0.81734644],\n",
       "       [0.8174873 ],\n",
       "       [0.8378369 ],\n",
       "       [0.8410055 ],\n",
       "       [0.8174873 ],\n",
       "       [0.82368375],\n",
       "       [0.80065839],\n",
       "       [0.77552059],\n",
       "       [0.7634094 ],\n",
       "       [0.74862255],\n",
       "       [0.7430598 ],\n",
       "       [0.73010367],\n",
       "       [0.72946998],\n",
       "       [0.72616052],\n",
       "       [0.80439032],\n",
       "       [0.83572446],\n",
       "       [0.83452744],\n",
       "       [0.84318831],\n",
       "       [0.82248662],\n",
       "       [0.81889555],\n",
       "       [0.81375537],\n",
       "       [0.83607655],\n",
       "       [0.84628654],\n",
       "       [0.81699435],\n",
       "       [0.79249036],\n",
       "       [0.79418033],\n",
       "       [0.82171206],\n",
       "       [0.8200222 ],\n",
       "       [0.79418033],\n",
       "       [0.78305493],\n",
       "       [0.76207163],\n",
       "       [0.73214574],\n",
       "       [0.75094622],\n",
       "       [0.76580355],\n",
       "       [0.76770465],\n",
       "       [0.7541852 ],\n",
       "       [0.77784426],\n",
       "       [0.77552059],\n",
       "       [0.75397397],\n",
       "       [0.72672384],\n",
       "       [0.71362686],\n",
       "       [0.75242485],\n",
       "       [0.72123157],\n",
       "       [0.69454466],\n",
       "       [0.66560456],\n",
       "       [0.69707956],\n",
       "       [0.72876579],\n",
       "       [0.73601841],\n",
       "       [0.75967747],\n",
       "       [0.76953548],\n",
       "       [0.79375786],\n",
       "       [0.80354538],\n",
       "       [0.83072514],\n",
       "       [0.83530199],\n",
       "       [0.84149845],\n",
       "       [0.86515751],\n",
       "       [0.85677824],\n",
       "       [0.83452744],\n",
       "       [0.832415  ],\n",
       "       [0.86149596],\n",
       "       [0.83769604],\n",
       "       [0.81495239],\n",
       "       [0.81713521],\n",
       "       [0.80270034],\n",
       "       [0.77214076],\n",
       "       [0.78558983],\n",
       "       [0.80488316],\n",
       "       [0.76890167],\n",
       "       [0.76735267],\n",
       "       [0.783759  ],\n",
       "       [0.78256198],\n",
       "       [0.77685847],\n",
       "       [0.74425682],\n",
       "       [0.75193201],\n",
       "       [0.70912038],\n",
       "       [0.70750089],\n",
       "       [0.75728343],\n",
       "       [0.71510549],\n",
       "       [0.71728841],\n",
       "       [0.72799124],\n",
       "       [0.77404196],\n",
       "       [0.70890914],\n",
       "       [0.71250021],\n",
       "       [0.67574417],\n",
       "       [0.69299554],\n",
       "       [0.63659408],\n",
       "       [0.60885101],\n",
       "       [0.64088933],\n",
       "       [0.6298343 ],\n",
       "       [0.65588752],\n",
       "       [0.59659906],\n",
       "       [0.57216545],\n",
       "       [0.57385531],\n",
       "       [0.61272379],\n",
       "       [0.59335998],\n",
       "       [0.59448663],\n",
       "       [0.6174415 ],\n",
       "       [0.65870403],\n",
       "       [0.6530709 ],\n",
       "       [0.65215559],\n",
       "       [0.66975906],\n",
       "       [0.62870776],\n",
       "       [0.63405918],\n",
       "       [0.65215559],\n",
       "       [0.64687455],\n",
       "       [0.60941433],\n",
       "       [0.57061633],\n",
       "       [0.53364906],\n",
       "       [0.5398454 ],\n",
       "       [0.55864589],\n",
       "       [0.52083368],\n",
       "       [0.53139576],\n",
       "       [0.56174412],\n",
       "       [0.55808268],\n",
       "       [0.57864351],\n",
       "       [0.6025138 ],\n",
       "       [0.6025138 ],\n",
       "       [0.57279915],\n",
       "       [0.58540318],\n",
       "       [0.56772934],\n",
       "       [0.58329074],\n",
       "       [0.60180962],\n",
       "       [0.61138591],\n",
       "       [0.63553792],\n",
       "       [0.64039638],\n",
       "       [0.62511659],\n",
       "       [0.6320876 ],\n",
       "       [0.62948232],\n",
       "       [0.65046562],\n",
       "       [0.66243595],\n",
       "       [0.64060772],\n",
       "       [0.66828032],\n",
       "       [0.6826447 ],\n",
       "       [0.69891039],\n",
       "       [0.69003817],\n",
       "       [0.682011  ],\n",
       "       [0.67250519],\n",
       "       [0.70904989],\n",
       "       [0.71299316],\n",
       "       [0.74932663],\n",
       "       [0.74228524],\n",
       "       [0.73172316],\n",
       "       [0.77481652],\n",
       "       [0.77256322]])"
      ]
     },
     "execution_count": 116,
     "metadata": {},
     "output_type": "execute_result"
    }
   ],
   "source": [
    "train_data"
   ]
  },
  {
   "cell_type": "code",
   "execution_count": 117,
   "id": "8ab184c5",
   "metadata": {},
   "outputs": [],
   "source": [
    "import numpy \n",
    "#convert an array of values into a dataset matrix\n",
    "def create_dataset(dataset,time_step=1):\n",
    "    datax,datay=[],[]\n",
    "    for i in range(len(dataset)-time_step-1):\n",
    "        a=dataset[i:(i+time_step),0]\n",
    "        datax.append(a)\n",
    "        datay.append(dataset[i+time_step,0])\n",
    "    return numpy.array(datax),numpy.array(datay)     "
   ]
  },
  {
   "cell_type": "code",
   "execution_count": 118,
   "id": "313728be",
   "metadata": {},
   "outputs": [],
   "source": [
    "#reshape into x=t,t+1,t+2,t+3 and y=t+4\n",
    "\n",
    "time_step=100\n",
    "x_train ,y_train=create_dataset(train_data,time_step)\n",
    "x_test ,y_test=create_dataset(test_data,time_step)"
   ]
  },
  {
   "cell_type": "code",
   "execution_count": 119,
   "id": "91731848",
   "metadata": {},
   "outputs": [
    {
     "name": "stdout",
     "output_type": "stream",
     "text": [
      "(552, 100)\n",
      "(552,)\n"
     ]
    },
    {
     "data": {
      "text/plain": [
       "(None, None)"
      ]
     },
     "execution_count": 119,
     "metadata": {},
     "output_type": "execute_result"
    }
   ],
   "source": [
    "print(x_train.shape),print(y_train.shape)"
   ]
  },
  {
   "cell_type": "code",
   "execution_count": 120,
   "id": "591b1a41",
   "metadata": {},
   "outputs": [
    {
     "name": "stdout",
     "output_type": "stream",
     "text": [
      "(252, 100)\n",
      "(252,)\n"
     ]
    },
    {
     "data": {
      "text/plain": [
       "(None, None)"
      ]
     },
     "execution_count": 120,
     "metadata": {},
     "output_type": "execute_result"
    }
   ],
   "source": [
    "print(x_test.shape),print(y_test.shape)"
   ]
  },
  {
   "cell_type": "code",
   "execution_count": 121,
   "id": "1b0d2f6c",
   "metadata": {},
   "outputs": [],
   "source": [
    "#reshape input to be [samples,time steps,features]which is reaquired for lstm\n",
    "x_train=x_train.reshape(x_train.shape[0],x_train.shape[1],1)\n",
    "x_test=x_test.reshape(x_test.shape[0],x_test.shape[1],1)"
   ]
  },
  {
   "cell_type": "code",
   "execution_count": 122,
   "id": "c838a13a",
   "metadata": {},
   "outputs": [],
   "source": [
    "#create stacked lstm model\n",
    "from tensorflow.keras.models import Sequential \n",
    "from tensorflow.keras.layers import Dense\n",
    "from tensorflow.keras.layers import LSTM"
   ]
  },
  {
   "cell_type": "code",
   "execution_count": 123,
   "id": "229dd504",
   "metadata": {},
   "outputs": [
    {
     "name": "stderr",
     "output_type": "stream",
     "text": [
      "/Users/mayankpathak/anaconda3/lib/python3.11/site-packages/keras/src/layers/rnn/rnn.py:204: UserWarning: Do not pass an `input_shape`/`input_dim` argument to a layer. When using Sequential models, prefer using an `Input(shape)` object as the first layer in the model instead.\n",
      "  super().__init__(**kwargs)\n"
     ]
    }
   ],
   "source": [
    "model=Sequential()\n",
    "model.add(LSTM(50,return_sequences=True,input_shape=(100,1)))\n",
    "model.add(LSTM(50,return_sequences=True))\n",
    "model.add(LSTM(50))\n",
    "model.add(Dense(1))\n",
    "model.compile(loss='mean_squared_error',optimizer='adam')\n"
   ]
  },
  {
   "cell_type": "code",
   "execution_count": 124,
   "id": "b40441eb",
   "metadata": {},
   "outputs": [
    {
     "data": {
      "text/html": [
       "<pre style=\"white-space:pre;overflow-x:auto;line-height:normal;font-family:Menlo,'DejaVu Sans Mono',consolas,'Courier New',monospace\"><span style=\"font-weight: bold\">Model: \"sequential_2\"</span>\n",
       "</pre>\n"
      ],
      "text/plain": [
       "\u001b[1mModel: \"sequential_2\"\u001b[0m\n"
      ]
     },
     "metadata": {},
     "output_type": "display_data"
    },
    {
     "data": {
      "text/html": [
       "<pre style=\"white-space:pre;overflow-x:auto;line-height:normal;font-family:Menlo,'DejaVu Sans Mono',consolas,'Courier New',monospace\">┏━━━━━━━━━━━━━━━━━━━━━━━━━━━━━━━━━┳━━━━━━━━━━━━━━━━━━━━━━━━┳━━━━━━━━━━━━━━━┓\n",
       "┃<span style=\"font-weight: bold\"> Layer (type)                    </span>┃<span style=\"font-weight: bold\"> Output Shape           </span>┃<span style=\"font-weight: bold\">       Param # </span>┃\n",
       "┡━━━━━━━━━━━━━━━━━━━━━━━━━━━━━━━━━╇━━━━━━━━━━━━━━━━━━━━━━━━╇━━━━━━━━━━━━━━━┩\n",
       "│ lstm_6 (<span style=\"color: #0087ff; text-decoration-color: #0087ff\">LSTM</span>)                   │ (<span style=\"color: #00d7ff; text-decoration-color: #00d7ff\">None</span>, <span style=\"color: #00af00; text-decoration-color: #00af00\">100</span>, <span style=\"color: #00af00; text-decoration-color: #00af00\">50</span>)        │        <span style=\"color: #00af00; text-decoration-color: #00af00\">10,400</span> │\n",
       "├─────────────────────────────────┼────────────────────────┼───────────────┤\n",
       "│ lstm_7 (<span style=\"color: #0087ff; text-decoration-color: #0087ff\">LSTM</span>)                   │ (<span style=\"color: #00d7ff; text-decoration-color: #00d7ff\">None</span>, <span style=\"color: #00af00; text-decoration-color: #00af00\">100</span>, <span style=\"color: #00af00; text-decoration-color: #00af00\">50</span>)        │        <span style=\"color: #00af00; text-decoration-color: #00af00\">20,200</span> │\n",
       "├─────────────────────────────────┼────────────────────────┼───────────────┤\n",
       "│ lstm_8 (<span style=\"color: #0087ff; text-decoration-color: #0087ff\">LSTM</span>)                   │ (<span style=\"color: #00d7ff; text-decoration-color: #00d7ff\">None</span>, <span style=\"color: #00af00; text-decoration-color: #00af00\">50</span>)             │        <span style=\"color: #00af00; text-decoration-color: #00af00\">20,200</span> │\n",
       "├─────────────────────────────────┼────────────────────────┼───────────────┤\n",
       "│ dense_2 (<span style=\"color: #0087ff; text-decoration-color: #0087ff\">Dense</span>)                 │ (<span style=\"color: #00d7ff; text-decoration-color: #00d7ff\">None</span>, <span style=\"color: #00af00; text-decoration-color: #00af00\">1</span>)              │            <span style=\"color: #00af00; text-decoration-color: #00af00\">51</span> │\n",
       "└─────────────────────────────────┴────────────────────────┴───────────────┘\n",
       "</pre>\n"
      ],
      "text/plain": [
       "┏━━━━━━━━━━━━━━━━━━━━━━━━━━━━━━━━━┳━━━━━━━━━━━━━━━━━━━━━━━━┳━━━━━━━━━━━━━━━┓\n",
       "┃\u001b[1m \u001b[0m\u001b[1mLayer (type)                   \u001b[0m\u001b[1m \u001b[0m┃\u001b[1m \u001b[0m\u001b[1mOutput Shape          \u001b[0m\u001b[1m \u001b[0m┃\u001b[1m \u001b[0m\u001b[1m      Param #\u001b[0m\u001b[1m \u001b[0m┃\n",
       "┡━━━━━━━━━━━━━━━━━━━━━━━━━━━━━━━━━╇━━━━━━━━━━━━━━━━━━━━━━━━╇━━━━━━━━━━━━━━━┩\n",
       "│ lstm_6 (\u001b[38;5;33mLSTM\u001b[0m)                   │ (\u001b[38;5;45mNone\u001b[0m, \u001b[38;5;34m100\u001b[0m, \u001b[38;5;34m50\u001b[0m)        │        \u001b[38;5;34m10,400\u001b[0m │\n",
       "├─────────────────────────────────┼────────────────────────┼───────────────┤\n",
       "│ lstm_7 (\u001b[38;5;33mLSTM\u001b[0m)                   │ (\u001b[38;5;45mNone\u001b[0m, \u001b[38;5;34m100\u001b[0m, \u001b[38;5;34m50\u001b[0m)        │        \u001b[38;5;34m20,200\u001b[0m │\n",
       "├─────────────────────────────────┼────────────────────────┼───────────────┤\n",
       "│ lstm_8 (\u001b[38;5;33mLSTM\u001b[0m)                   │ (\u001b[38;5;45mNone\u001b[0m, \u001b[38;5;34m50\u001b[0m)             │        \u001b[38;5;34m20,200\u001b[0m │\n",
       "├─────────────────────────────────┼────────────────────────┼───────────────┤\n",
       "│ dense_2 (\u001b[38;5;33mDense\u001b[0m)                 │ (\u001b[38;5;45mNone\u001b[0m, \u001b[38;5;34m1\u001b[0m)              │            \u001b[38;5;34m51\u001b[0m │\n",
       "└─────────────────────────────────┴────────────────────────┴───────────────┘\n"
      ]
     },
     "metadata": {},
     "output_type": "display_data"
    },
    {
     "data": {
      "text/html": [
       "<pre style=\"white-space:pre;overflow-x:auto;line-height:normal;font-family:Menlo,'DejaVu Sans Mono',consolas,'Courier New',monospace\"><span style=\"font-weight: bold\"> Total params: </span><span style=\"color: #00af00; text-decoration-color: #00af00\">50,851</span> (198.64 KB)\n",
       "</pre>\n"
      ],
      "text/plain": [
       "\u001b[1m Total params: \u001b[0m\u001b[38;5;34m50,851\u001b[0m (198.64 KB)\n"
      ]
     },
     "metadata": {},
     "output_type": "display_data"
    },
    {
     "data": {
      "text/html": [
       "<pre style=\"white-space:pre;overflow-x:auto;line-height:normal;font-family:Menlo,'DejaVu Sans Mono',consolas,'Courier New',monospace\"><span style=\"font-weight: bold\"> Trainable params: </span><span style=\"color: #00af00; text-decoration-color: #00af00\">50,851</span> (198.64 KB)\n",
       "</pre>\n"
      ],
      "text/plain": [
       "\u001b[1m Trainable params: \u001b[0m\u001b[38;5;34m50,851\u001b[0m (198.64 KB)\n"
      ]
     },
     "metadata": {},
     "output_type": "display_data"
    },
    {
     "data": {
      "text/html": [
       "<pre style=\"white-space:pre;overflow-x:auto;line-height:normal;font-family:Menlo,'DejaVu Sans Mono',consolas,'Courier New',monospace\"><span style=\"font-weight: bold\"> Non-trainable params: </span><span style=\"color: #00af00; text-decoration-color: #00af00\">0</span> (0.00 B)\n",
       "</pre>\n"
      ],
      "text/plain": [
       "\u001b[1m Non-trainable params: \u001b[0m\u001b[38;5;34m0\u001b[0m (0.00 B)\n"
      ]
     },
     "metadata": {},
     "output_type": "display_data"
    }
   ],
   "source": [
    "model.summary()"
   ]
  },
  {
   "cell_type": "code",
   "execution_count": 125,
   "id": "39bb686e",
   "metadata": {},
   "outputs": [
    {
     "name": "stdout",
     "output_type": "stream",
     "text": [
      "Epoch 1/100\n",
      "\u001b[1m9/9\u001b[0m \u001b[32m━━━━━━━━━━━━━━━━━━━━\u001b[0m\u001b[37m\u001b[0m \u001b[1m3s\u001b[0m 159ms/step - loss: 0.1542 - val_loss: 0.0117\n",
      "Epoch 2/100\n",
      "\u001b[1m9/9\u001b[0m \u001b[32m━━━━━━━━━━━━━━━━━━━━\u001b[0m\u001b[37m\u001b[0m \u001b[1m1s\u001b[0m 135ms/step - loss: 0.0129 - val_loss: 0.0230\n",
      "Epoch 3/100\n",
      "\u001b[1m9/9\u001b[0m \u001b[32m━━━━━━━━━━━━━━━━━━━━\u001b[0m\u001b[37m\u001b[0m \u001b[1m1s\u001b[0m 132ms/step - loss: 0.0074 - val_loss: 0.0119\n",
      "Epoch 4/100\n",
      "\u001b[1m9/9\u001b[0m \u001b[32m━━━━━━━━━━━━━━━━━━━━\u001b[0m\u001b[37m\u001b[0m \u001b[1m1s\u001b[0m 137ms/step - loss: 0.0057 - val_loss: 0.0180\n",
      "Epoch 5/100\n",
      "\u001b[1m9/9\u001b[0m \u001b[32m━━━━━━━━━━━━━━━━━━━━\u001b[0m\u001b[37m\u001b[0m \u001b[1m1s\u001b[0m 152ms/step - loss: 0.0046 - val_loss: 0.0091\n",
      "Epoch 6/100\n",
      "\u001b[1m9/9\u001b[0m \u001b[32m━━━━━━━━━━━━━━━━━━━━\u001b[0m\u001b[37m\u001b[0m \u001b[1m1s\u001b[0m 138ms/step - loss: 0.0038 - val_loss: 0.0106\n",
      "Epoch 7/100\n",
      "\u001b[1m9/9\u001b[0m \u001b[32m━━━━━━━━━━━━━━━━━━━━\u001b[0m\u001b[37m\u001b[0m \u001b[1m1s\u001b[0m 130ms/step - loss: 0.0034 - val_loss: 0.0066\n",
      "Epoch 8/100\n",
      "\u001b[1m9/9\u001b[0m \u001b[32m━━━━━━━━━━━━━━━━━━━━\u001b[0m\u001b[37m\u001b[0m \u001b[1m1s\u001b[0m 131ms/step - loss: 0.0029 - val_loss: 0.0071\n",
      "Epoch 9/100\n",
      "\u001b[1m9/9\u001b[0m \u001b[32m━━━━━━━━━━━━━━━━━━━━\u001b[0m\u001b[37m\u001b[0m \u001b[1m1s\u001b[0m 134ms/step - loss: 0.0028 - val_loss: 0.0054\n",
      "Epoch 10/100\n",
      "\u001b[1m9/9\u001b[0m \u001b[32m━━━━━━━━━━━━━━━━━━━━\u001b[0m\u001b[37m\u001b[0m \u001b[1m1s\u001b[0m 137ms/step - loss: 0.0029 - val_loss: 0.0044\n",
      "Epoch 11/100\n",
      "\u001b[1m9/9\u001b[0m \u001b[32m━━━━━━━━━━━━━━━━━━━━\u001b[0m\u001b[37m\u001b[0m \u001b[1m1s\u001b[0m 138ms/step - loss: 0.0025 - val_loss: 0.0041\n",
      "Epoch 12/100\n",
      "\u001b[1m9/9\u001b[0m \u001b[32m━━━━━━━━━━━━━━━━━━━━\u001b[0m\u001b[37m\u001b[0m \u001b[1m1s\u001b[0m 150ms/step - loss: 0.0029 - val_loss: 0.0050\n",
      "Epoch 13/100\n",
      "\u001b[1m9/9\u001b[0m \u001b[32m━━━━━━━━━━━━━━━━━━━━\u001b[0m\u001b[37m\u001b[0m \u001b[1m1s\u001b[0m 148ms/step - loss: 0.0024 - val_loss: 0.0042\n",
      "Epoch 14/100\n",
      "\u001b[1m9/9\u001b[0m \u001b[32m━━━━━━━━━━━━━━━━━━━━\u001b[0m\u001b[37m\u001b[0m \u001b[1m1s\u001b[0m 148ms/step - loss: 0.0027 - val_loss: 0.0033\n",
      "Epoch 15/100\n",
      "\u001b[1m9/9\u001b[0m \u001b[32m━━━━━━━━━━━━━━━━━━━━\u001b[0m\u001b[37m\u001b[0m \u001b[1m1s\u001b[0m 152ms/step - loss: 0.0025 - val_loss: 0.0028\n",
      "Epoch 16/100\n",
      "\u001b[1m9/9\u001b[0m \u001b[32m━━━━━━━━━━━━━━━━━━━━\u001b[0m\u001b[37m\u001b[0m \u001b[1m1s\u001b[0m 153ms/step - loss: 0.0026 - val_loss: 0.0034\n",
      "Epoch 17/100\n",
      "\u001b[1m9/9\u001b[0m \u001b[32m━━━━━━━━━━━━━━━━━━━━\u001b[0m\u001b[37m\u001b[0m \u001b[1m1s\u001b[0m 152ms/step - loss: 0.0025 - val_loss: 0.0049\n",
      "Epoch 18/100\n",
      "\u001b[1m9/9\u001b[0m \u001b[32m━━━━━━━━━━━━━━━━━━━━\u001b[0m\u001b[37m\u001b[0m \u001b[1m1s\u001b[0m 153ms/step - loss: 0.0027 - val_loss: 0.0042\n",
      "Epoch 19/100\n",
      "\u001b[1m9/9\u001b[0m \u001b[32m━━━━━━━━━━━━━━━━━━━━\u001b[0m\u001b[37m\u001b[0m \u001b[1m1s\u001b[0m 142ms/step - loss: 0.0026 - val_loss: 0.0035\n",
      "Epoch 20/100\n",
      "\u001b[1m9/9\u001b[0m \u001b[32m━━━━━━━━━━━━━━━━━━━━\u001b[0m\u001b[37m\u001b[0m \u001b[1m1s\u001b[0m 155ms/step - loss: 0.0023 - val_loss: 0.0037\n",
      "Epoch 21/100\n",
      "\u001b[1m9/9\u001b[0m \u001b[32m━━━━━━━━━━━━━━━━━━━━\u001b[0m\u001b[37m\u001b[0m \u001b[1m1s\u001b[0m 147ms/step - loss: 0.0025 - val_loss: 0.0030\n",
      "Epoch 22/100\n",
      "\u001b[1m9/9\u001b[0m \u001b[32m━━━━━━━━━━━━━━━━━━━━\u001b[0m\u001b[37m\u001b[0m \u001b[1m1s\u001b[0m 147ms/step - loss: 0.0021 - val_loss: 0.0025\n",
      "Epoch 23/100\n",
      "\u001b[1m9/9\u001b[0m \u001b[32m━━━━━━━━━━━━━━━━━━━━\u001b[0m\u001b[37m\u001b[0m \u001b[1m1s\u001b[0m 150ms/step - loss: 0.0022 - val_loss: 0.0026\n",
      "Epoch 24/100\n",
      "\u001b[1m9/9\u001b[0m \u001b[32m━━━━━━━━━━━━━━━━━━━━\u001b[0m\u001b[37m\u001b[0m \u001b[1m1s\u001b[0m 144ms/step - loss: 0.0022 - val_loss: 0.0039\n",
      "Epoch 25/100\n",
      "\u001b[1m9/9\u001b[0m \u001b[32m━━━━━━━━━━━━━━━━━━━━\u001b[0m\u001b[37m\u001b[0m \u001b[1m1s\u001b[0m 146ms/step - loss: 0.0024 - val_loss: 0.0030\n",
      "Epoch 26/100\n",
      "\u001b[1m9/9\u001b[0m \u001b[32m━━━━━━━━━━━━━━━━━━━━\u001b[0m\u001b[37m\u001b[0m \u001b[1m1s\u001b[0m 150ms/step - loss: 0.0020 - val_loss: 0.0036\n",
      "Epoch 27/100\n",
      "\u001b[1m9/9\u001b[0m \u001b[32m━━━━━━━━━━━━━━━━━━━━\u001b[0m\u001b[37m\u001b[0m \u001b[1m1s\u001b[0m 140ms/step - loss: 0.0020 - val_loss: 0.0019\n",
      "Epoch 28/100\n",
      "\u001b[1m9/9\u001b[0m \u001b[32m━━━━━━━━━━━━━━━━━━━━\u001b[0m\u001b[37m\u001b[0m \u001b[1m1s\u001b[0m 137ms/step - loss: 0.0022 - val_loss: 0.0036\n",
      "Epoch 29/100\n",
      "\u001b[1m9/9\u001b[0m \u001b[32m━━━━━━━━━━━━━━━━━━━━\u001b[0m\u001b[37m\u001b[0m \u001b[1m1s\u001b[0m 154ms/step - loss: 0.0022 - val_loss: 0.0030\n",
      "Epoch 30/100\n",
      "\u001b[1m9/9\u001b[0m \u001b[32m━━━━━━━━━━━━━━━━━━━━\u001b[0m\u001b[37m\u001b[0m \u001b[1m1s\u001b[0m 149ms/step - loss: 0.0022 - val_loss: 0.0031\n",
      "Epoch 31/100\n",
      "\u001b[1m9/9\u001b[0m \u001b[32m━━━━━━━━━━━━━━━━━━━━\u001b[0m\u001b[37m\u001b[0m \u001b[1m1s\u001b[0m 148ms/step - loss: 0.0020 - val_loss: 0.0018\n",
      "Epoch 32/100\n",
      "\u001b[1m9/9\u001b[0m \u001b[32m━━━━━━━━━━━━━━━━━━━━\u001b[0m\u001b[37m\u001b[0m \u001b[1m1s\u001b[0m 152ms/step - loss: 0.0018 - val_loss: 0.0025\n",
      "Epoch 33/100\n",
      "\u001b[1m9/9\u001b[0m \u001b[32m━━━━━━━━━━━━━━━━━━━━\u001b[0m\u001b[37m\u001b[0m \u001b[1m1s\u001b[0m 151ms/step - loss: 0.0018 - val_loss: 0.0039\n",
      "Epoch 34/100\n",
      "\u001b[1m9/9\u001b[0m \u001b[32m━━━━━━━━━━━━━━━━━━━━\u001b[0m\u001b[37m\u001b[0m \u001b[1m1s\u001b[0m 151ms/step - loss: 0.0021 - val_loss: 0.0018\n",
      "Epoch 35/100\n",
      "\u001b[1m9/9\u001b[0m \u001b[32m━━━━━━━━━━━━━━━━━━━━\u001b[0m\u001b[37m\u001b[0m \u001b[1m1s\u001b[0m 153ms/step - loss: 0.0018 - val_loss: 0.0015\n",
      "Epoch 36/100\n",
      "\u001b[1m9/9\u001b[0m \u001b[32m━━━━━━━━━━━━━━━━━━━━\u001b[0m\u001b[37m\u001b[0m \u001b[1m1s\u001b[0m 144ms/step - loss: 0.0018 - val_loss: 0.0017\n",
      "Epoch 37/100\n",
      "\u001b[1m9/9\u001b[0m \u001b[32m━━━━━━━━━━━━━━━━━━━━\u001b[0m\u001b[37m\u001b[0m \u001b[1m1s\u001b[0m 149ms/step - loss: 0.0018 - val_loss: 0.0019\n",
      "Epoch 38/100\n",
      "\u001b[1m9/9\u001b[0m \u001b[32m━━━━━━━━━━━━━━━━━━━━\u001b[0m\u001b[37m\u001b[0m \u001b[1m1s\u001b[0m 150ms/step - loss: 0.0017 - val_loss: 0.0024\n",
      "Epoch 39/100\n",
      "\u001b[1m9/9\u001b[0m \u001b[32m━━━━━━━━━━━━━━━━━━━━\u001b[0m\u001b[37m\u001b[0m \u001b[1m1s\u001b[0m 154ms/step - loss: 0.0017 - val_loss: 0.0024\n",
      "Epoch 40/100\n",
      "\u001b[1m9/9\u001b[0m \u001b[32m━━━━━━━━━━━━━━━━━━━━\u001b[0m\u001b[37m\u001b[0m \u001b[1m1s\u001b[0m 150ms/step - loss: 0.0017 - val_loss: 0.0017\n",
      "Epoch 41/100\n",
      "\u001b[1m9/9\u001b[0m \u001b[32m━━━━━━━━━━━━━━━━━━━━\u001b[0m\u001b[37m\u001b[0m \u001b[1m1s\u001b[0m 147ms/step - loss: 0.0018 - val_loss: 0.0013\n",
      "Epoch 42/100\n",
      "\u001b[1m9/9\u001b[0m \u001b[32m━━━━━━━━━━━━━━━━━━━━\u001b[0m\u001b[37m\u001b[0m \u001b[1m1s\u001b[0m 143ms/step - loss: 0.0016 - val_loss: 0.0019\n",
      "Epoch 43/100\n",
      "\u001b[1m9/9\u001b[0m \u001b[32m━━━━━━━━━━━━━━━━━━━━\u001b[0m\u001b[37m\u001b[0m \u001b[1m1s\u001b[0m 158ms/step - loss: 0.0015 - val_loss: 0.0013\n",
      "Epoch 44/100\n",
      "\u001b[1m9/9\u001b[0m \u001b[32m━━━━━━━━━━━━━━━━━━━━\u001b[0m\u001b[37m\u001b[0m \u001b[1m1s\u001b[0m 149ms/step - loss: 0.0015 - val_loss: 0.0013\n",
      "Epoch 45/100\n",
      "\u001b[1m9/9\u001b[0m \u001b[32m━━━━━━━━━━━━━━━━━━━━\u001b[0m\u001b[37m\u001b[0m \u001b[1m1s\u001b[0m 147ms/step - loss: 0.0016 - val_loss: 0.0018\n",
      "Epoch 46/100\n",
      "\u001b[1m9/9\u001b[0m \u001b[32m━━━━━━━━━━━━━━━━━━━━\u001b[0m\u001b[37m\u001b[0m \u001b[1m1s\u001b[0m 159ms/step - loss: 0.0016 - val_loss: 0.0019\n",
      "Epoch 47/100\n",
      "\u001b[1m9/9\u001b[0m \u001b[32m━━━━━━━━━━━━━━━━━━━━\u001b[0m\u001b[37m\u001b[0m \u001b[1m1s\u001b[0m 136ms/step - loss: 0.0016 - val_loss: 0.0013\n",
      "Epoch 48/100\n",
      "\u001b[1m9/9\u001b[0m \u001b[32m━━━━━━━━━━━━━━━━━━━━\u001b[0m\u001b[37m\u001b[0m \u001b[1m1s\u001b[0m 145ms/step - loss: 0.0018 - val_loss: 0.0022\n",
      "Epoch 49/100\n",
      "\u001b[1m9/9\u001b[0m \u001b[32m━━━━━━━━━━━━━━━━━━━━\u001b[0m\u001b[37m\u001b[0m \u001b[1m1s\u001b[0m 146ms/step - loss: 0.0017 - val_loss: 0.0031\n",
      "Epoch 50/100\n",
      "\u001b[1m9/9\u001b[0m \u001b[32m━━━━━━━━━━━━━━━━━━━━\u001b[0m\u001b[37m\u001b[0m \u001b[1m1s\u001b[0m 139ms/step - loss: 0.0017 - val_loss: 0.0016\n",
      "Epoch 51/100\n",
      "\u001b[1m9/9\u001b[0m \u001b[32m━━━━━━━━━━━━━━━━━━━━\u001b[0m\u001b[37m\u001b[0m \u001b[1m1s\u001b[0m 144ms/step - loss: 0.0014 - val_loss: 0.0015\n",
      "Epoch 52/100\n",
      "\u001b[1m9/9\u001b[0m \u001b[32m━━━━━━━━━━━━━━━━━━━━\u001b[0m\u001b[37m\u001b[0m \u001b[1m1s\u001b[0m 145ms/step - loss: 0.0014 - val_loss: 0.0018\n",
      "Epoch 53/100\n",
      "\u001b[1m9/9\u001b[0m \u001b[32m━━━━━━━━━━━━━━━━━━━━\u001b[0m\u001b[37m\u001b[0m \u001b[1m1s\u001b[0m 138ms/step - loss: 0.0014 - val_loss: 0.0028\n",
      "Epoch 54/100\n",
      "\u001b[1m9/9\u001b[0m \u001b[32m━━━━━━━━━━━━━━━━━━━━\u001b[0m\u001b[37m\u001b[0m \u001b[1m1s\u001b[0m 142ms/step - loss: 0.0015 - val_loss: 0.0011\n",
      "Epoch 55/100\n",
      "\u001b[1m9/9\u001b[0m \u001b[32m━━━━━━━━━━━━━━━━━━━━\u001b[0m\u001b[37m\u001b[0m \u001b[1m1s\u001b[0m 145ms/step - loss: 0.0013 - val_loss: 9.7478e-04\n",
      "Epoch 56/100\n",
      "\u001b[1m9/9\u001b[0m \u001b[32m━━━━━━━━━━━━━━━━━━━━\u001b[0m\u001b[37m\u001b[0m \u001b[1m1s\u001b[0m 146ms/step - loss: 0.0014 - val_loss: 0.0011\n",
      "Epoch 57/100\n",
      "\u001b[1m9/9\u001b[0m \u001b[32m━━━━━━━━━━━━━━━━━━━━\u001b[0m\u001b[37m\u001b[0m \u001b[1m1s\u001b[0m 141ms/step - loss: 0.0013 - val_loss: 0.0016\n",
      "Epoch 58/100\n",
      "\u001b[1m9/9\u001b[0m \u001b[32m━━━━━━━━━━━━━━━━━━━━\u001b[0m\u001b[37m\u001b[0m \u001b[1m1s\u001b[0m 140ms/step - loss: 0.0013 - val_loss: 0.0011\n",
      "Epoch 59/100\n",
      "\u001b[1m9/9\u001b[0m \u001b[32m━━━━━━━━━━━━━━━━━━━━\u001b[0m\u001b[37m\u001b[0m \u001b[1m1s\u001b[0m 141ms/step - loss: 0.0014 - val_loss: 0.0012\n",
      "Epoch 60/100\n",
      "\u001b[1m9/9\u001b[0m \u001b[32m━━━━━━━━━━━━━━━━━━━━\u001b[0m\u001b[37m\u001b[0m \u001b[1m1s\u001b[0m 137ms/step - loss: 0.0013 - val_loss: 0.0012\n",
      "Epoch 61/100\n",
      "\u001b[1m9/9\u001b[0m \u001b[32m━━━━━━━━━━━━━━━━━━━━\u001b[0m\u001b[37m\u001b[0m \u001b[1m1s\u001b[0m 152ms/step - loss: 0.0013 - val_loss: 0.0013\n",
      "Epoch 62/100\n",
      "\u001b[1m9/9\u001b[0m \u001b[32m━━━━━━━━━━━━━━━━━━━━\u001b[0m\u001b[37m\u001b[0m \u001b[1m1s\u001b[0m 146ms/step - loss: 0.0012 - val_loss: 0.0016\n",
      "Epoch 63/100\n",
      "\u001b[1m9/9\u001b[0m \u001b[32m━━━━━━━━━━━━━━━━━━━━\u001b[0m\u001b[37m\u001b[0m \u001b[1m1s\u001b[0m 145ms/step - loss: 0.0012 - val_loss: 0.0015\n",
      "Epoch 64/100\n",
      "\u001b[1m9/9\u001b[0m \u001b[32m━━━━━━━━━━━━━━━━━━━━\u001b[0m\u001b[37m\u001b[0m \u001b[1m1s\u001b[0m 147ms/step - loss: 0.0012 - val_loss: 8.1473e-04\n",
      "Epoch 65/100\n",
      "\u001b[1m9/9\u001b[0m \u001b[32m━━━━━━━━━━━━━━━━━━━━\u001b[0m\u001b[37m\u001b[0m \u001b[1m1s\u001b[0m 144ms/step - loss: 0.0013 - val_loss: 0.0010\n",
      "Epoch 66/100\n",
      "\u001b[1m9/9\u001b[0m \u001b[32m━━━━━━━━━━━━━━━━━━━━\u001b[0m\u001b[37m\u001b[0m \u001b[1m1s\u001b[0m 152ms/step - loss: 0.0012 - val_loss: 0.0016\n",
      "Epoch 67/100\n",
      "\u001b[1m9/9\u001b[0m \u001b[32m━━━━━━━━━━━━━━━━━━━━\u001b[0m\u001b[37m\u001b[0m \u001b[1m1s\u001b[0m 145ms/step - loss: 0.0012 - val_loss: 7.8929e-04\n",
      "Epoch 68/100\n",
      "\u001b[1m9/9\u001b[0m \u001b[32m━━━━━━━━━━━━━━━━━━━━\u001b[0m\u001b[37m\u001b[0m \u001b[1m1s\u001b[0m 148ms/step - loss: 0.0012 - val_loss: 0.0014\n",
      "Epoch 69/100\n",
      "\u001b[1m9/9\u001b[0m \u001b[32m━━━━━━━━━━━━━━━━━━━━\u001b[0m\u001b[37m\u001b[0m \u001b[1m1s\u001b[0m 139ms/step - loss: 9.9013e-04 - val_loss: 8.3167e-04\n",
      "Epoch 70/100\n",
      "\u001b[1m9/9\u001b[0m \u001b[32m━━━━━━━━━━━━━━━━━━━━\u001b[0m\u001b[37m\u001b[0m \u001b[1m1s\u001b[0m 141ms/step - loss: 0.0011 - val_loss: 8.4583e-04\n",
      "Epoch 71/100\n",
      "\u001b[1m9/9\u001b[0m \u001b[32m━━━━━━━━━━━━━━━━━━━━\u001b[0m\u001b[37m\u001b[0m \u001b[1m1s\u001b[0m 149ms/step - loss: 9.6200e-04 - val_loss: 0.0013\n",
      "Epoch 72/100\n",
      "\u001b[1m9/9\u001b[0m \u001b[32m━━━━━━━━━━━━━━━━━━━━\u001b[0m\u001b[37m\u001b[0m \u001b[1m1s\u001b[0m 138ms/step - loss: 0.0013 - val_loss: 8.5045e-04\n",
      "Epoch 73/100\n",
      "\u001b[1m9/9\u001b[0m \u001b[32m━━━━━━━━━━━━━━━━━━━━\u001b[0m\u001b[37m\u001b[0m \u001b[1m1s\u001b[0m 143ms/step - loss: 0.0015 - val_loss: 0.0011\n",
      "Epoch 74/100\n",
      "\u001b[1m9/9\u001b[0m \u001b[32m━━━━━━━━━━━━━━━━━━━━\u001b[0m\u001b[37m\u001b[0m \u001b[1m1s\u001b[0m 139ms/step - loss: 0.0012 - val_loss: 0.0025\n",
      "Epoch 75/100\n",
      "\u001b[1m9/9\u001b[0m \u001b[32m━━━━━━━━━━━━━━━━━━━━\u001b[0m\u001b[37m\u001b[0m \u001b[1m1s\u001b[0m 142ms/step - loss: 0.0012 - val_loss: 7.5758e-04\n",
      "Epoch 76/100\n",
      "\u001b[1m9/9\u001b[0m \u001b[32m━━━━━━━━━━━━━━━━━━━━\u001b[0m\u001b[37m\u001b[0m \u001b[1m1s\u001b[0m 140ms/step - loss: 0.0011 - val_loss: 6.9053e-04\n",
      "Epoch 77/100\n",
      "\u001b[1m9/9\u001b[0m \u001b[32m━━━━━━━━━━━━━━━━━━━━\u001b[0m\u001b[37m\u001b[0m \u001b[1m1s\u001b[0m 140ms/step - loss: 0.0011 - val_loss: 8.3453e-04\n",
      "Epoch 78/100\n",
      "\u001b[1m9/9\u001b[0m \u001b[32m━━━━━━━━━━━━━━━━━━━━\u001b[0m\u001b[37m\u001b[0m \u001b[1m1s\u001b[0m 142ms/step - loss: 9.7444e-04 - val_loss: 6.6404e-04\n",
      "Epoch 79/100\n",
      "\u001b[1m9/9\u001b[0m \u001b[32m━━━━━━━━━━━━━━━━━━━━\u001b[0m\u001b[37m\u001b[0m \u001b[1m1s\u001b[0m 138ms/step - loss: 0.0011 - val_loss: 7.9309e-04\n",
      "Epoch 80/100\n",
      "\u001b[1m9/9\u001b[0m \u001b[32m━━━━━━━━━━━━━━━━━━━━\u001b[0m\u001b[37m\u001b[0m \u001b[1m1s\u001b[0m 138ms/step - loss: 0.0011 - val_loss: 6.6398e-04\n",
      "Epoch 81/100\n",
      "\u001b[1m9/9\u001b[0m \u001b[32m━━━━━━━━━━━━━━━━━━━━\u001b[0m\u001b[37m\u001b[0m \u001b[1m1s\u001b[0m 138ms/step - loss: 0.0011 - val_loss: 6.1657e-04\n",
      "Epoch 82/100\n",
      "\u001b[1m9/9\u001b[0m \u001b[32m━━━━━━━━━━━━━━━━━━━━\u001b[0m\u001b[37m\u001b[0m \u001b[1m1s\u001b[0m 146ms/step - loss: 0.0011 - val_loss: 0.0012\n",
      "Epoch 83/100\n",
      "\u001b[1m9/9\u001b[0m \u001b[32m━━━━━━━━━━━━━━━━━━━━\u001b[0m\u001b[37m\u001b[0m \u001b[1m1s\u001b[0m 146ms/step - loss: 9.2158e-04 - val_loss: 6.3555e-04\n",
      "Epoch 84/100\n",
      "\u001b[1m9/9\u001b[0m \u001b[32m━━━━━━━━━━━━━━━━━━━━\u001b[0m\u001b[37m\u001b[0m \u001b[1m1s\u001b[0m 147ms/step - loss: 9.8331e-04 - val_loss: 0.0015\n",
      "Epoch 85/100\n",
      "\u001b[1m9/9\u001b[0m \u001b[32m━━━━━━━━━━━━━━━━━━━━\u001b[0m\u001b[37m\u001b[0m \u001b[1m1s\u001b[0m 143ms/step - loss: 9.9378e-04 - val_loss: 5.8379e-04\n",
      "Epoch 86/100\n",
      "\u001b[1m9/9\u001b[0m \u001b[32m━━━━━━━━━━━━━━━━━━━━\u001b[0m\u001b[37m\u001b[0m \u001b[1m1s\u001b[0m 145ms/step - loss: 8.9984e-04 - val_loss: 0.0016\n",
      "Epoch 87/100\n",
      "\u001b[1m9/9\u001b[0m \u001b[32m━━━━━━━━━━━━━━━━━━━━\u001b[0m\u001b[37m\u001b[0m \u001b[1m1s\u001b[0m 143ms/step - loss: 0.0011 - val_loss: 0.0013\n",
      "Epoch 88/100\n",
      "\u001b[1m9/9\u001b[0m \u001b[32m━━━━━━━━━━━━━━━━━━━━\u001b[0m\u001b[37m\u001b[0m \u001b[1m1s\u001b[0m 141ms/step - loss: 0.0011 - val_loss: 5.6329e-04\n",
      "Epoch 89/100\n",
      "\u001b[1m9/9\u001b[0m \u001b[32m━━━━━━━━━━━━━━━━━━━━\u001b[0m\u001b[37m\u001b[0m \u001b[1m1s\u001b[0m 147ms/step - loss: 9.7251e-04 - val_loss: 0.0011\n",
      "Epoch 90/100\n",
      "\u001b[1m9/9\u001b[0m \u001b[32m━━━━━━━━━━━━━━━━━━━━\u001b[0m\u001b[37m\u001b[0m \u001b[1m1s\u001b[0m 140ms/step - loss: 8.6426e-04 - val_loss: 6.7327e-04\n",
      "Epoch 91/100\n",
      "\u001b[1m9/9\u001b[0m \u001b[32m━━━━━━━━━━━━━━━━━━━━\u001b[0m\u001b[37m\u001b[0m \u001b[1m1s\u001b[0m 146ms/step - loss: 9.4764e-04 - val_loss: 0.0014\n",
      "Epoch 92/100\n",
      "\u001b[1m9/9\u001b[0m \u001b[32m━━━━━━━━━━━━━━━━━━━━\u001b[0m\u001b[37m\u001b[0m \u001b[1m1s\u001b[0m 144ms/step - loss: 9.7402e-04 - val_loss: 5.3832e-04\n",
      "Epoch 93/100\n",
      "\u001b[1m9/9\u001b[0m \u001b[32m━━━━━━━━━━━━━━━━━━━━\u001b[0m\u001b[37m\u001b[0m \u001b[1m1s\u001b[0m 147ms/step - loss: 0.0012 - val_loss: 0.0018\n",
      "Epoch 94/100\n",
      "\u001b[1m9/9\u001b[0m \u001b[32m━━━━━━━━━━━━━━━━━━━━\u001b[0m\u001b[37m\u001b[0m \u001b[1m1s\u001b[0m 141ms/step - loss: 0.0013 - val_loss: 5.8790e-04\n",
      "Epoch 95/100\n",
      "\u001b[1m9/9\u001b[0m \u001b[32m━━━━━━━━━━━━━━━━━━━━\u001b[0m\u001b[37m\u001b[0m \u001b[1m1s\u001b[0m 148ms/step - loss: 9.5722e-04 - val_loss: 9.5099e-04\n",
      "Epoch 96/100\n",
      "\u001b[1m9/9\u001b[0m \u001b[32m━━━━━━━━━━━━━━━━━━━━\u001b[0m\u001b[37m\u001b[0m \u001b[1m1s\u001b[0m 141ms/step - loss: 0.0011 - val_loss: 0.0010\n",
      "Epoch 97/100\n",
      "\u001b[1m9/9\u001b[0m \u001b[32m━━━━━━━━━━━━━━━━━━━━\u001b[0m\u001b[37m\u001b[0m \u001b[1m1s\u001b[0m 135ms/step - loss: 8.7977e-04 - val_loss: 9.5221e-04\n",
      "Epoch 98/100\n",
      "\u001b[1m9/9\u001b[0m \u001b[32m━━━━━━━━━━━━━━━━━━━━\u001b[0m\u001b[37m\u001b[0m \u001b[1m1s\u001b[0m 142ms/step - loss: 8.6890e-04 - val_loss: 5.5404e-04\n",
      "Epoch 99/100\n",
      "\u001b[1m9/9\u001b[0m \u001b[32m━━━━━━━━━━━━━━━━━━━━\u001b[0m\u001b[37m\u001b[0m \u001b[1m1s\u001b[0m 146ms/step - loss: 8.6703e-04 - val_loss: 5.3394e-04\n",
      "Epoch 100/100\n",
      "\u001b[1m9/9\u001b[0m \u001b[32m━━━━━━━━━━━━━━━━━━━━\u001b[0m\u001b[37m\u001b[0m \u001b[1m1s\u001b[0m 151ms/step - loss: 9.0789e-04 - val_loss: 5.1557e-04\n"
     ]
    },
    {
     "data": {
      "text/plain": [
       "<keras.src.callbacks.history.History at 0x30ec027d0>"
      ]
     },
     "execution_count": 125,
     "metadata": {},
     "output_type": "execute_result"
    }
   ],
   "source": [
    "model.fit(x_train,y_train,validation_data=(x_test,y_test),epochs=100,batch_size=64,verbose=1)"
   ]
  },
  {
   "cell_type": "code",
   "execution_count": 126,
   "id": "2eda8c36",
   "metadata": {},
   "outputs": [],
   "source": [
    "import tensorflow as tf"
   ]
  },
  {
   "cell_type": "code",
   "execution_count": 127,
   "id": "5b032810",
   "metadata": {},
   "outputs": [
    {
     "data": {
      "text/plain": [
       "'2.16.1'"
      ]
     },
     "execution_count": 127,
     "metadata": {},
     "output_type": "execute_result"
    }
   ],
   "source": [
    "tf.__version__\n"
   ]
  },
  {
   "cell_type": "code",
   "execution_count": 128,
   "id": "0ba25572",
   "metadata": {},
   "outputs": [
    {
     "name": "stdout",
     "output_type": "stream",
     "text": [
      "\u001b[1m18/18\u001b[0m \u001b[32m━━━━━━━━━━━━━━━━━━━━\u001b[0m\u001b[37m\u001b[0m \u001b[1m1s\u001b[0m 30ms/step\n",
      "\u001b[1m8/8\u001b[0m \u001b[32m━━━━━━━━━━━━━━━━━━━━\u001b[0m\u001b[37m\u001b[0m \u001b[1m0s\u001b[0m 18ms/step\n"
     ]
    }
   ],
   "source": [
    "###lets do the prediction and check performmance metrics\n",
    "train_predict=model.predict(x_train)\n",
    "test_predict=model.predict(x_test)"
   ]
  },
  {
   "cell_type": "code",
   "execution_count": 129,
   "id": "5d1a7368",
   "metadata": {},
   "outputs": [],
   "source": [
    "#transform back to original prediction \n",
    "train_predict=scaler.inverse_transform(train_predict)\n",
    "test_predict=scaler.inverse_transform(test_predict) "
   ]
  },
  {
   "cell_type": "code",
   "execution_count": 130,
   "id": "92f398e8",
   "metadata": {},
   "outputs": [
    {
     "data": {
      "text/plain": [
       "138.92848297465707"
      ]
     },
     "execution_count": 130,
     "metadata": {},
     "output_type": "execute_result"
    }
   ],
   "source": [
    "#calculate rmse performance metrices\n",
    "import math\n",
    "from sklearn.metrics import mean_squared_error\n",
    "math.sqrt(mean_squared_error(y_train,train_predict))"
   ]
  },
  {
   "cell_type": "code",
   "execution_count": 131,
   "id": "88d9b75b",
   "metadata": {},
   "outputs": [
    {
     "data": {
      "text/plain": [
       "171.4835903932987"
      ]
     },
     "execution_count": 131,
     "metadata": {},
     "output_type": "execute_result"
    }
   ],
   "source": [
    "#test data rmse\n",
    "math.sqrt(mean_squared_error(y_test,test_predict))"
   ]
  },
  {
   "cell_type": "code",
   "execution_count": 135,
   "id": "15c8e32a",
   "metadata": {},
   "outputs": [
    {
     "data": {
      "image/png": "[encoded data removed]",
      "text/plain": [
       "<Figure size 640x480 with 1 Axes>"
      ]
     },
     "metadata": {},
     "output_type": "display_data"
    }
   ],
   "source": [
    "##plotting \n",
    "#shift train prediction for plotting\n",
    "look_back=100\n",
    "trainpredictplot=numpy.empty_like(df1)\n",
    "trainpredictplot[:,:]=np.nan\n",
    "trainpredictplot[look_back:len(train_predict)+look_back,:]=train_predict\n",
    "#shift test prediction for plottting\n",
    "testpredictplot=numpy.empty_like(df1)\n",
    "testpredictplot[:,:]=numpy.nan\n",
    "testpredictplot[len(train_predict)+(look_back*2)+1:len(df1)-1,:]=test_predict\n",
    "#plot baseline and prediction\n",
    "plt.plot(scaler.inverse_transform(df1))\n",
    "plt.plot(trainpredictplot)\n",
    "plt.plot(testpredictplot)\n",
    "plt.show()\n"
   ]
  },
  {
   "cell_type": "code",
   "execution_count": 136,
   "id": "0c32c2aa",
   "metadata": {},
   "outputs": [
    {
     "data": {
      "text/plain": [
       "353"
      ]
     },
     "execution_count": 136,
     "metadata": {},
     "output_type": "execute_result"
    }
   ],
   "source": [
    "len(test_data)"
   ]
  },
  {
   "cell_type": "code",
   "execution_count": 151,
   "id": "bb99b3a3",
   "metadata": {},
   "outputs": [
    {
     "data": {
      "text/plain": [
       "(1, 100)"
      ]
     },
     "execution_count": 151,
     "metadata": {},
     "output_type": "execute_result"
    }
   ],
   "source": [
    "x_input=test_data[253:].reshape(1,-1)\n",
    "x_input.shape"
   ]
  },
  {
   "cell_type": "code",
   "execution_count": 152,
   "id": "1b7737b2",
   "metadata": {},
   "outputs": [],
   "source": [
    "temp_input=list(x_input)\n",
    " "
   ]
  },
  {
   "cell_type": "code",
   "execution_count": 153,
   "id": "2f877a7c",
   "metadata": {},
   "outputs": [
    {
     "data": {
      "text/plain": [
       "[array([0.85973561, 0.8581865 , 0.85691899, 0.8686782 , 0.85452495,\n",
       "        0.8483286 , 0.83023219, 0.83368251, 0.84318831, 0.85297583,\n",
       "        0.88036682, 0.84699072, 0.86269298, 0.87381838, 0.90149098,\n",
       "        0.92634706, 0.92789617, 0.93909206, 0.94078192, 0.89297096,\n",
       "        0.8552995 , 0.85966513, 0.86797402, 0.8464274 , 0.83171093,\n",
       "        0.84248424, 0.83734395, 0.8581865 , 0.86593206, 0.84072389,\n",
       "        0.82973924, 0.83579483, 0.84487828, 0.81586781, 0.80509439,\n",
       "        0.80692522, 0.81058677, 0.82847184, 0.81896593, 0.82783814,\n",
       "        0.83663987, 0.85480666, 0.86536874, 0.86114387, 0.87107225,\n",
       "        0.87747993, 0.86438295, 0.86346754, 0.85241251, 0.84318831,\n",
       "        0.84051266, 0.82234587, 0.8231908 , 0.82628903, 0.80981221,\n",
       "        0.78016793, 0.78953299, 0.8041086 , 0.80748854, 0.83002095,\n",
       "        0.85536999, 0.84889182, 0.8670586 , 0.88529587, 0.8928301 ,\n",
       "        0.88945027, 0.91754533, 0.90627917, 0.92486843, 0.92888196,\n",
       "        0.9408524 , 0.94071155, 0.95310435, 0.94740084, 0.95211856,\n",
       "        0.94268313, 0.94141562, 0.94571087, 0.93845825, 0.94254227,\n",
       "        0.95162571, 0.93888072, 0.96697588, 0.95923042, 0.9729611 ,\n",
       "        0.98310072, 0.96528591, 0.97605933, 0.99894384, 1.        ,\n",
       "        0.9961977 , 0.98436812, 0.99176159, 0.97690426, 0.97584799,\n",
       "        0.96824339, 0.96437061, 0.96507468, 0.96810253, 0.96070906])]"
      ]
     },
     "execution_count": 153,
     "metadata": {},
     "output_type": "execute_result"
    }
   ],
   "source": [
    "temp_input"
   ]
  },
  {
   "cell_type": "code",
   "execution_count": 154,
   "id": "1ee3892a",
   "metadata": {},
   "outputs": [
    {
     "name": "stdout",
     "output_type": "stream",
     "text": [
      "[0.95754486]\n",
      "2\n",
      "[0.95754486]\n",
      "3\n",
      "[0.95754486]\n",
      "4\n",
      "[0.95754486]\n",
      "5\n",
      "[0.95754486]\n",
      "6\n",
      "[0.95754486]\n",
      "7\n",
      "[0.95754486]\n",
      "8\n",
      "[0.95754486]\n",
      "9\n",
      "[0.95754486]\n",
      "10\n",
      "[0.95754486]\n",
      "11\n",
      "[0.95754486]\n",
      "12\n",
      "[0.95754486]\n",
      "13\n",
      "[0.95754486]\n",
      "14\n",
      "[0.95754486]\n",
      "15\n",
      "[0.95754486]\n",
      "16\n",
      "[0.95754486]\n",
      "17\n",
      "[0.95754486]\n",
      "18\n",
      "[0.95754486]\n",
      "19\n",
      "[0.95754486]\n",
      "20\n",
      "[0.95754486]\n",
      "21\n",
      "[0.95754486]\n",
      "22\n",
      "[0.95754486]\n",
      "23\n",
      "[0.95754486]\n",
      "24\n",
      "[0.95754486]\n",
      "25\n",
      "[0.95754486]\n",
      "26\n",
      "[0.95754486]\n",
      "27\n",
      "[0.95754486]\n",
      "28\n",
      "[0.95754486]\n",
      "29\n",
      "[0.95754486]\n",
      "30\n",
      "[0.95754486]\n",
      "31\n",
      "[[0.9575448632240295], [0.9575448632240295], [0.9575448632240295], [0.9575448632240295], [0.9575448632240295], [0.9575448632240295], [0.9575448632240295], [0.9575448632240295], [0.9575448632240295], [0.9575448632240295], [0.9575448632240295], [0.9575448632240295], [0.9575448632240295], [0.9575448632240295], [0.9575448632240295], [0.9575448632240295], [0.9575448632240295], [0.9575448632240295], [0.9575448632240295], [0.9575448632240295], [0.9575448632240295], [0.9575448632240295], [0.9575448632240295], [0.9575448632240295], [0.9575448632240295], [0.9575448632240295], [0.9575448632240295], [0.9575448632240295], [0.9575448632240295], [0.9575448632240295]]\n"
     ]
    }
   ],
   "source": [
    " # demonstrate prediction for next 10 days\n",
    "from numpy import array\n",
    "\n",
    "lst_output=[]\n",
    "n_steps=100\n",
    "i=0\n",
    "while(i<30):\n",
    "    \n",
    "    if(len(temp_input)>100):\n",
    "        #print(temp_input)\n",
    "        x_input=np.array(temp_input[1:])\n",
    "        print(\"{} day input {}\".format(i,x_input))\n",
    "        x_input=x_input.reshape(1,-1)\n",
    "        x_input = x_input.reshape((1, n_steps, 1))\n",
    "        #print(x_input)\n",
    "        yhat = model.predict(x_input, verbose=0)\n",
    "        print(\"{} day output {}\".format(i,yhat))\n",
    "        temp_input.extend(yhat[0].tolist())\n",
    "        temp_input=temp_input[1:]\n",
    "        #print(temp_input)\n",
    "        lst_output.extend(yhat.tolist())\n",
    "        i=i+1\n",
    "    else:\n",
    "        x_input = x_input.reshape((1, n_steps,1))\n",
    "        yhat = model.predict(x_input, verbose=0)\n",
    "        print(yhat[0])\n",
    "        temp_input.extend(yhat[0].tolist())\n",
    "        print(len(temp_input))\n",
    "        lst_output.extend(yhat.tolist())\n",
    "        i=i+1\n",
    "    \n",
    "\n",
    "print(lst_output)"
   ]
  },
  {
   "cell_type": "code",
   "execution_count": 156,
   "id": "704e4092",
   "metadata": {},
   "outputs": [],
   "source": [
    "day_new=np.arange(1,101)\n",
    "day_pred=np.arange(101,131)"
   ]
  },
  {
   "cell_type": "code",
   "execution_count": 157,
   "id": "6bc308e2",
   "metadata": {},
   "outputs": [],
   "source": [
    "import matplotlib.pyplot as plt"
   ]
  },
  {
   "cell_type": "code",
   "execution_count": 158,
   "id": "94cb1165",
   "metadata": {},
   "outputs": [
    {
     "data": {
      "text/plain": [
       "1006"
      ]
     },
     "execution_count": 158,
     "metadata": {},
     "output_type": "execute_result"
    }
   ],
   "source": [
    "len(df1)"
   ]
  },
  {
   "cell_type": "code",
   "execution_count": 159,
   "id": "26de54e9",
   "metadata": {},
   "outputs": [],
   "source": [
    "df2=df1.tolist()\n",
    "df2.extend(lst_output)"
   ]
  },
  {
   "cell_type": "code",
   "execution_count": 161,
   "id": "72b6f0bf",
   "metadata": {},
   "outputs": [
    {
     "data": {
      "text/plain": [
       "[<matplotlib.lines.Line2D at 0x30ecee990>]"
      ]
     },
     "execution_count": 161,
     "metadata": {},
     "output_type": "execute_result"
    },
    {
     "data": {
      "image/png": "[encoded data removed]",
      "text/plain": [
       "<Figure size 640x480 with 1 Axes>"
      ]
     },
     "metadata": {},
     "output_type": "display_data"
    }
   ],
   "source": [
    "plt.plot(day_new,scaler.inverse_transform(df1[906:]))\n",
    "plt.plot(day_pred,scaler.inverse_transform(lst_output))"
   ]
  },
  {
   "cell_type": "code",
   "execution_count": null,
   "id": "b8423499",
   "metadata": {},
   "outputs": [],
   "source": []
  }
 ],
 "metadata": {
  "kernelspec": {
   "display_name": "Python 3 (ipykernel)",
   "language": "python",
   "name": "python3"
  },
  "language_info": {
   "codemirror_mode": {
    "name": "ipython",
    "version": 3
   },
   "file_extension": ".py",
   "mimetype": "text/x-python",
   "name": "python",
   "nbconvert_exporter": "python",
   "pygments_lexer": "ipython3",
   "version": "3.11.5"
  }
 },
 "nbformat": 4,
 "nbformat_minor": 5
}
